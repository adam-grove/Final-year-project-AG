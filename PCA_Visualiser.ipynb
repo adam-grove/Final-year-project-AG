{
 "cells": [
  {
   "cell_type": "code",
   "execution_count": 97,
   "metadata": {},
   "outputs": [],
   "source": [
    "import pandas as pd\n",
    "import numpy as np \n",
    "import matplotlib.pyplot as plt\n",
    "\n",
    "from sklearn.preprocessing import StandardScaler\n",
    "from sklearn.decomposition import PCA\n",
    "from sklearn.impute import KNNImputer\n",
    "from sklearn.model_selection import GridSearchCV\n",
    "from sklearn.metrics import mean_squared_error\n"
   ]
  },
  {
   "cell_type": "markdown",
   "metadata": {},
   "source": [
    "# Producing a PCA \n",
    "This code will take an input of a featurematrix with an Id column and intensities for each sample with the names PX_tXh"
   ]
  },
  {
   "cell_type": "code",
   "execution_count": 98,
   "metadata": {},
   "outputs": [],
   "source": [
    "software = input(\"What software is being used:\")"
   ]
  },
  {
   "cell_type": "code",
   "execution_count": 99,
   "metadata": {},
   "outputs": [
    {
     "data": {
      "text/plain": [
       "<bound method NDFrame.head of       id  P1_t1h  P1_t0h  P1_t6h  P2_t3h  P2_t4h  P1_t5h     P2_t0h  P1_t8h  \\\n",
       "0      1     NaN     NaN     NaN     NaN     NaN     NaN        NaN     NaN   \n",
       "1      2     NaN     NaN     NaN     NaN     NaN     NaN        NaN     NaN   \n",
       "2      3     NaN     NaN     NaN     NaN     NaN     NaN  168.14813     NaN   \n",
       "3      4     NaN     NaN     NaN     NaN     NaN     NaN        NaN     NaN   \n",
       "4      5     NaN     NaN     NaN     NaN     NaN     NaN        NaN     NaN   \n",
       "..   ...     ...     ...     ...     ...     ...     ...        ...     ...   \n",
       "976  977     NaN     NaN     NaN     NaN     NaN     NaN        NaN     NaN   \n",
       "977  978     NaN     NaN     NaN     NaN     NaN     NaN        NaN     NaN   \n",
       "978  979     NaN     NaN     NaN     NaN     NaN     NaN        NaN     NaN   \n",
       "979  980     NaN     NaN     NaN     NaN     NaN     NaN        NaN     NaN   \n",
       "980  981     NaN     NaN     NaN     NaN     NaN     NaN        NaN     NaN   \n",
       "\n",
       "     P1_t9h  ...  P8_t9h  P8_t3h  P9_t9h  P8_t7h  P9_t4h  P9_t6h     P9_t8h  \\\n",
       "0       NaN  ...     NaN     NaN     NaN     NaN     NaN     NaN        NaN   \n",
       "1       NaN  ...     NaN     NaN     NaN     NaN     NaN     NaN        NaN   \n",
       "2       NaN  ...     NaN     NaN     NaN     NaN     NaN     NaN        NaN   \n",
       "3       NaN  ...     NaN     NaN     NaN     NaN     NaN     NaN        NaN   \n",
       "4       NaN  ...     NaN     NaN     NaN     NaN     NaN     NaN        NaN   \n",
       "..      ...  ...     ...     ...     ...     ...     ...     ...        ...   \n",
       "976     NaN  ...     NaN     NaN     NaN     NaN     NaN     NaN        NaN   \n",
       "977     NaN  ...     NaN     NaN     NaN     NaN     NaN     NaN        NaN   \n",
       "978     NaN  ...     NaN     NaN     NaN     NaN     NaN     NaN        NaN   \n",
       "979     NaN  ...     NaN     NaN     NaN     NaN     NaN     NaN  900.71302   \n",
       "980     NaN  ...     NaN     NaN     NaN     NaN     NaN     NaN        NaN   \n",
       "\n",
       "     P8_t1h  P9_t7h  P9_t5h  \n",
       "0       NaN     NaN     NaN  \n",
       "1       NaN     NaN     NaN  \n",
       "2       NaN     NaN     NaN  \n",
       "3       NaN     NaN     NaN  \n",
       "4       NaN     NaN     NaN  \n",
       "..      ...     ...     ...  \n",
       "976     NaN     NaN     NaN  \n",
       "977     NaN     NaN     NaN  \n",
       "978     NaN     NaN     NaN  \n",
       "979     NaN     NaN     NaN  \n",
       "980     NaN     NaN     NaN  \n",
       "\n",
       "[981 rows x 90 columns]>"
      ]
     },
     "execution_count": 99,
     "metadata": {},
     "output_type": "execute_result"
    }
   ],
   "source": [
    "# Importing the data\n",
    "df = pd.read_csv(r\"C:\\Users\\adamg\\OneDrive - The University of Liverpool\\Project Work\\MZmine\\MZmine_Feature_Matrix.csv\")\n",
    "\n",
    "\n",
    "df.head"
   ]
  },
  {
   "cell_type": "markdown",
   "metadata": {},
   "source": [
    "# Data cleaning\n",
    "The data needs to be cleaned first. This means removing features that are only present in <10% of the samples, filling in missing values through k-nearest neighbour machine learning and scaling the data "
   ]
  },
  {
   "cell_type": "markdown",
   "metadata": {},
   "source": [
    "## Removing rows with low amounts of data"
   ]
  },
  {
   "cell_type": "code",
   "execution_count": 100,
   "metadata": {},
   "outputs": [
    {
     "data": {
      "text/plain": [
       "(981, 90)"
      ]
     },
     "execution_count": 100,
     "metadata": {},
     "output_type": "execute_result"
    }
   ],
   "source": [
    "# Before cleaning\n",
    "df.shape"
   ]
  },
  {
   "cell_type": "code",
   "execution_count": 101,
   "metadata": {},
   "outputs": [],
   "source": [
    "threshold = 0.1\n",
    "\n",
    "# Finds the number of columns with data in \n",
    "data_cols = df.notna().sum(axis=1)\n",
    "\n",
    "df = df[data_cols >= df.shape[1]*threshold]"
   ]
  },
  {
   "cell_type": "code",
   "execution_count": 102,
   "metadata": {},
   "outputs": [
    {
     "data": {
      "text/plain": [
       "(472, 90)"
      ]
     },
     "execution_count": 102,
     "metadata": {},
     "output_type": "execute_result"
    }
   ],
   "source": [
    "# After filtering\n",
    "df.shape"
   ]
  },
  {
   "cell_type": "markdown",
   "metadata": {},
   "source": [
    "## Scaling the data"
   ]
  },
  {
   "cell_type": "code",
   "execution_count": 103,
   "metadata": {},
   "outputs": [],
   "source": [
    "x = df.iloc[:,1:].T\n",
    "\n",
    "# Extracting Patient Names\n",
    "patients = [name.split('_')[0] for name in x.index]\n",
    "for i, patient in enumerate(patients):\n",
    "    patients[i] = patient.replace(\"P\", \"Patient \")\n",
    "\n",
    "x = StandardScaler().fit_transform(x)"
   ]
  },
  {
   "cell_type": "markdown",
   "metadata": {},
   "source": [
    "## Filling in missing values \n",
    "Using k-nearest neighbour"
   ]
  },
  {
   "cell_type": "code",
   "execution_count": 104,
   "metadata": {},
   "outputs": [
    {
     "data": {
      "text/plain": [
       "array([[ 0.44936792, -0.52721962,  0.75807004, ..., -0.26889446,\n",
       "        -1.67912297, -0.43779574],\n",
       "       [-0.90211455, -0.04055536,  0.39052093, ...,  0.21886759,\n",
       "        -1.06945299, -1.3108697 ],\n",
       "       [ 0.65209029,  0.32444284,  0.1148591 , ...,  0.21886759,\n",
       "         0.25244829, -0.42923619],\n",
       "       ...,\n",
       "       [ 0.24664555, -0.40555355,  0.29863365, ...,  0.24700771,\n",
       "        -0.89281963,  1.86900262],\n",
       "       [ 0.36827897, -0.89221782, -0.7121264 , ...,  1.13342143,\n",
       "         0.50885155, -0.78873723],\n",
       "       [ 0.40882345,  0.44610891,  0.02297182, ...,  1.41951264,\n",
       "        -0.36291955,  0.78621972]])"
      ]
     },
     "execution_count": 104,
     "metadata": {},
     "output_type": "execute_result"
    }
   ],
   "source": [
    "# Can adjust the number of neighbours\n",
    "num_neighbours = 2\n",
    "\n",
    "imputer = KNNImputer(n_neighbors=num_neighbours, weights=\"uniform\")\n",
    "\n",
    "x = imputer.fit_transform(x)\n",
    "x"
   ]
  },
  {
   "cell_type": "markdown",
   "metadata": {},
   "source": [
    "# Performing PCA analysis"
   ]
  },
  {
   "cell_type": "code",
   "execution_count": 105,
   "metadata": {},
   "outputs": [
    {
     "data": {
      "text/html": [
       "<div>\n",
       "<style scoped>\n",
       "    .dataframe tbody tr th:only-of-type {\n",
       "        vertical-align: middle;\n",
       "    }\n",
       "\n",
       "    .dataframe tbody tr th {\n",
       "        vertical-align: top;\n",
       "    }\n",
       "\n",
       "    .dataframe thead th {\n",
       "        text-align: right;\n",
       "    }\n",
       "</style>\n",
       "<table border=\"1\" class=\"dataframe\">\n",
       "  <thead>\n",
       "    <tr style=\"text-align: right;\">\n",
       "      <th></th>\n",
       "      <th>Principal Component 1</th>\n",
       "      <th>Principal Component 2</th>\n",
       "      <th>Patient</th>\n",
       "    </tr>\n",
       "  </thead>\n",
       "  <tbody>\n",
       "    <tr>\n",
       "      <th>0</th>\n",
       "      <td>-6.838436</td>\n",
       "      <td>-3.904070</td>\n",
       "      <td>Patient 1</td>\n",
       "    </tr>\n",
       "    <tr>\n",
       "      <th>1</th>\n",
       "      <td>0.374311</td>\n",
       "      <td>-5.717795</td>\n",
       "      <td>Patient 1</td>\n",
       "    </tr>\n",
       "    <tr>\n",
       "      <th>2</th>\n",
       "      <td>9.676525</td>\n",
       "      <td>-5.901818</td>\n",
       "      <td>Patient 1</td>\n",
       "    </tr>\n",
       "    <tr>\n",
       "      <th>3</th>\n",
       "      <td>6.956253</td>\n",
       "      <td>-5.153445</td>\n",
       "      <td>Patient 2</td>\n",
       "    </tr>\n",
       "    <tr>\n",
       "      <th>4</th>\n",
       "      <td>6.609501</td>\n",
       "      <td>-0.434728</td>\n",
       "      <td>Patient 2</td>\n",
       "    </tr>\n",
       "    <tr>\n",
       "      <th>...</th>\n",
       "      <td>...</td>\n",
       "      <td>...</td>\n",
       "      <td>...</td>\n",
       "    </tr>\n",
       "    <tr>\n",
       "      <th>84</th>\n",
       "      <td>-6.269147</td>\n",
       "      <td>3.411371</td>\n",
       "      <td>Patient 9</td>\n",
       "    </tr>\n",
       "    <tr>\n",
       "      <th>85</th>\n",
       "      <td>-8.826499</td>\n",
       "      <td>0.635528</td>\n",
       "      <td>Patient 9</td>\n",
       "    </tr>\n",
       "    <tr>\n",
       "      <th>86</th>\n",
       "      <td>-9.362042</td>\n",
       "      <td>-0.379656</td>\n",
       "      <td>Patient 8</td>\n",
       "    </tr>\n",
       "    <tr>\n",
       "      <th>87</th>\n",
       "      <td>-7.084473</td>\n",
       "      <td>5.429740</td>\n",
       "      <td>Patient 9</td>\n",
       "    </tr>\n",
       "    <tr>\n",
       "      <th>88</th>\n",
       "      <td>-5.978884</td>\n",
       "      <td>6.798320</td>\n",
       "      <td>Patient 9</td>\n",
       "    </tr>\n",
       "  </tbody>\n",
       "</table>\n",
       "<p>89 rows × 3 columns</p>\n",
       "</div>"
      ],
      "text/plain": [
       "    Principal Component 1  Principal Component 2    Patient\n",
       "0               -6.838436              -3.904070  Patient 1\n",
       "1                0.374311              -5.717795  Patient 1\n",
       "2                9.676525              -5.901818  Patient 1\n",
       "3                6.956253              -5.153445  Patient 2\n",
       "4                6.609501              -0.434728  Patient 2\n",
       "..                    ...                    ...        ...\n",
       "84              -6.269147               3.411371  Patient 9\n",
       "85              -8.826499               0.635528  Patient 9\n",
       "86              -9.362042              -0.379656  Patient 8\n",
       "87              -7.084473               5.429740  Patient 9\n",
       "88              -5.978884               6.798320  Patient 9\n",
       "\n",
       "[89 rows x 3 columns]"
      ]
     },
     "execution_count": 105,
     "metadata": {},
     "output_type": "execute_result"
    }
   ],
   "source": [
    "pca = PCA(n_components=2)\n",
    "principalComponents = pca.fit_transform(x)\n",
    "principalDf = pd.DataFrame(data=principalComponents, columns=[\"Principal Component 1\",\"Principal Component 2\"])\n",
    "principalDf[\"Patient\"] = patients\n",
    "\n",
    "principalDf"
   ]
  },
  {
   "cell_type": "code",
   "execution_count": 106,
   "metadata": {},
   "outputs": [
    {
     "data": {
      "image/png": "[encoded data removed]",
      "text/plain": [
       "<Figure size 1000x700 with 1 Axes>"
      ]
     },
     "metadata": {},
     "output_type": "display_data"
    }
   ],
   "source": [
    "# Asigns each patient a colour\n",
    "plt.figure(figsize=(10, 7))\n",
    "unique_patients = np.unique(patients)\n",
    "colours = plt.cm.rainbow(np.linspace(0, 1, len(unique_patients)))\n",
    "\n",
    "# Plots each patients PCA results\n",
    "for patient, colour in zip(unique_patients, colours):\n",
    "    indices = principalDf['Patient'] == patient\n",
    "    plt.scatter(principalDf.loc[indices, 'Principal Component 1'], principalDf.loc[indices, 'Principal Component 2'], label=patient, color=colour)\n",
    "\n",
    "\n",
    "plt.xlabel('Principal Component 1')\n",
    "plt.ylabel('Principal Component 2')\n",
    "plt.title(f'Software used: {software}')\n",
    "plt.legend()\n",
    "plt.show()"
   ]
  }
 ],
 "metadata": {
  "kernelspec": {
   "display_name": "Python 3",
   "language": "python",
   "name": "python3"
  },
  "language_info": {
   "codemirror_mode": {
    "name": "ipython",
    "version": 3
   },
   "file_extension": ".py",
   "mimetype": "text/x-python",
   "name": "python",
   "nbconvert_exporter": "python",
   "pygments_lexer": "ipython3",
   "version": "3.12.3"
  }
 },
 "nbformat": 4,
 "nbformat_minor": 2
}
