{
 "cells": [
  {
   "cell_type": "code",
   "execution_count": 69,
   "metadata": {},
   "outputs": [],
   "source": [
    "import pandas as pd\n",
    "import numpy as np \n",
    "import matplotlib.pyplot as plt\n",
    "import re\n",
    "\n",
    "from sklearn.preprocessing import StandardScaler\n",
    "from sklearn.decomposition import PCA\n",
    "from sklearn.impute import KNNImputer\n",
    "from sklearn.model_selection import GridSearchCV\n",
    "from sklearn.metrics import mean_squared_error\n"
   ]
  },
  {
   "cell_type": "markdown",
   "metadata": {},
   "source": [
    "# Producing a PCA \n",
    "This code will take an input of a featurematrix with an Id column and intensities for each sample with the names PX_tXh"
   ]
  },
  {
   "cell_type": "code",
   "execution_count": 70,
   "metadata": {},
   "outputs": [],
   "source": [
    "software = input(\"What software is being used:\")"
   ]
  },
  {
   "cell_type": "code",
   "execution_count": 71,
   "metadata": {},
   "outputs": [],
   "source": [
    "date = input(\"Enter the date (For naming)\")"
   ]
  },
  {
   "cell_type": "code",
   "execution_count": 72,
   "metadata": {},
   "outputs": [
    {
     "data": {
      "text/plain": [
       "<bound method NDFrame.head of    Unnamed: 0        P1_t0h       P1_t10h       P1_t11h        P1_t1h  \\\n",
       "0        FT01  3.653040e+05  4.184094e+05  4.276560e+05  3.611035e+05   \n",
       "1        FT02  4.447987e+05  6.369508e+05  4.249843e+05  3.641180e+05   \n",
       "2        FT03  6.596271e+05  1.392095e+06  1.417412e+06  6.630007e+05   \n",
       "3        FT04  2.602568e+05           NaN           NaN           NaN   \n",
       "4        FT05  3.287398e+05           NaN           NaN  3.480406e+05   \n",
       "5        FT06  2.380095e+05           NaN           NaN           NaN   \n",
       "6        FT07  2.903287e+05  2.613087e+05  2.710922e+05  2.550073e+05   \n",
       "7        FT08  3.032018e+05  4.396733e+05  3.626990e+05           NaN   \n",
       "8        FT09  5.063149e+06  5.287652e+06  6.120736e+06  4.363780e+06   \n",
       "9        FT10  1.637029e+06  1.473937e+06  2.236082e+06  1.317978e+06   \n",
       "10       FT11           NaN           NaN           NaN  4.677500e+05   \n",
       "11       FT12  1.817352e+06  1.827494e+06  2.702201e+06  2.254661e+06   \n",
       "12       FT13  8.300835e+05  6.768300e+05  7.124058e+05  9.647874e+05   \n",
       "13       FT14  4.854673e+05  5.021979e+05  4.890940e+05  4.172263e+05   \n",
       "14       FT15  1.025840e+06  1.569284e+06  1.154630e+06  1.000883e+06   \n",
       "15       FT16  3.247893e+05  5.726658e+05           NaN  3.571844e+05   \n",
       "16       FT17  4.028520e+05  5.639592e+05  6.053012e+05  3.728391e+05   \n",
       "17       FT18  3.644953e+05  5.529693e+05  4.593171e+05  4.160868e+05   \n",
       "18       FT19  8.375889e+05  1.082082e+06  9.734729e+05  7.681084e+05   \n",
       "19       FT20           NaN  3.847673e+05           NaN           NaN   \n",
       "20       FT21  3.419044e+05  4.616047e+05  3.787104e+05  3.339806e+05   \n",
       "21       FT22  3.175363e+05  4.182542e+05  4.534648e+05           NaN   \n",
       "22       FT23  5.502895e+05           NaN  5.024497e+05  8.253115e+05   \n",
       "23       FT24  6.532979e+05  3.494540e+05  6.188935e+05  6.307959e+05   \n",
       "24       FT25  4.072714e+05           NaN  4.213167e+05  3.812246e+05   \n",
       "25       FT26  9.996524e+05  1.331256e+06  1.060806e+06  7.839719e+05   \n",
       "26       FT27  4.591987e+05  7.551384e+05  7.977256e+05  4.305256e+05   \n",
       "27       FT28           NaN  4.123750e+05  7.338184e+05  3.290361e+05   \n",
       "28       FT29  9.769463e+05  8.172403e+05  7.206059e+05  8.671882e+05   \n",
       "29       FT30  5.632002e+05  5.673126e+05           NaN  6.922879e+05   \n",
       "30       FT31  7.406048e+05           NaN           NaN           NaN   \n",
       "31       FT32  1.102847e+06  8.394704e+05  1.000665e+06  1.045814e+06   \n",
       "32       FT33  7.140310e+05  6.237277e+05           NaN  7.132629e+05   \n",
       "33       FT34  1.043050e+06  9.730616e+05  1.223975e+06  9.513367e+05   \n",
       "34       FT35  7.431898e+05  7.144588e+05  8.372948e+05  6.056427e+05   \n",
       "35       FT36  7.443012e+05  6.644086e+05  8.613994e+05  6.397923e+05   \n",
       "\n",
       "          P1_t2h        P1_t3h        P1_t4h        P1_t5h        P1_t6h  ...  \\\n",
       "0   3.714754e+05  3.654539e+05  3.678370e+05  3.638522e+05  3.654355e+05  ...   \n",
       "1   3.814736e+05  4.526094e+05  4.919921e+05  3.879466e+05  5.190053e+05  ...   \n",
       "2   8.469153e+05  8.874939e+05  9.320125e+05  7.792185e+05  7.851991e+05  ...   \n",
       "3   2.827020e+05  2.450235e+05           NaN           NaN           NaN  ...   \n",
       "4            NaN  2.905246e+05           NaN           NaN           NaN  ...   \n",
       "5            NaN  2.322782e+05  2.265459e+05           NaN           NaN  ...   \n",
       "6   2.723871e+05  2.788656e+05  2.798360e+05           NaN           NaN  ...   \n",
       "7   2.393319e+05           NaN  2.531919e+05           NaN  2.548509e+05  ...   \n",
       "8   5.026652e+06  4.471097e+06  5.081204e+06  4.169817e+06  3.981153e+06  ...   \n",
       "9   1.799231e+06  1.606140e+06  1.428137e+06  1.497824e+06  1.769143e+06  ...   \n",
       "10           NaN           NaN           NaN           NaN           NaN  ...   \n",
       "11  3.392768e+06  3.070307e+06  1.898149e+06  1.840894e+06  1.864001e+06  ...   \n",
       "12  9.352822e+05  9.715413e+05  7.046264e+05  5.942428e+05  6.787779e+05  ...   \n",
       "13  5.008971e+05  4.175155e+05  5.081008e+05  4.121490e+05  4.514055e+05  ...   \n",
       "14  1.037121e+06  1.146780e+06  1.166319e+06  9.249394e+05  1.037854e+06  ...   \n",
       "15  3.341510e+05  3.379784e+05  4.040921e+05           NaN  3.213802e+05  ...   \n",
       "16  3.839394e+05  3.753012e+05  4.670623e+05  4.080863e+05  3.899643e+05  ...   \n",
       "17  3.773272e+05  4.311787e+05  4.153707e+05  3.468968e+05  4.268702e+05  ...   \n",
       "18  7.651624e+05  8.550235e+05  9.657966e+05  7.868064e+05  8.354940e+05  ...   \n",
       "19  3.112461e+05           NaN  3.266548e+05           NaN           NaN  ...   \n",
       "20  3.119587e+05  3.176253e+05  3.288342e+05  2.737867e+05  2.927021e+05  ...   \n",
       "21  2.883355e+05  2.708299e+05  2.736802e+05  2.957899e+05  3.141982e+05  ...   \n",
       "22  1.228559e+06  8.861405e+05  9.654287e+05  5.298514e+05  4.158339e+05  ...   \n",
       "23  6.553223e+05  5.642618e+05  7.975264e+05  5.676683e+05  5.580686e+05  ...   \n",
       "24  4.322878e+05  3.565125e+05  3.546858e+05  4.216814e+05  3.761966e+05  ...   \n",
       "25  8.363127e+05  7.129727e+05  1.015989e+06  8.298010e+05  8.936054e+05  ...   \n",
       "26  5.070129e+05  4.157018e+05  5.374472e+05  4.434925e+05  5.035027e+05  ...   \n",
       "27  5.579794e+05           NaN  5.415176e+05           NaN  3.536170e+05  ...   \n",
       "28  9.557300e+05  6.710669e+05  8.186582e+05  7.388334e+05  7.685014e+05  ...   \n",
       "29  7.830179e+05           NaN           NaN           NaN  6.041811e+05  ...   \n",
       "30           NaN           NaN           NaN           NaN  6.642919e+05  ...   \n",
       "31  1.216976e+06  1.154683e+06  1.092213e+06  8.670912e+05  8.603444e+05  ...   \n",
       "32  7.292496e+05  6.360478e+05  7.859888e+05  6.513012e+05  7.021548e+05  ...   \n",
       "33  1.106698e+06  1.010431e+06  1.017724e+06  9.062043e+05  1.102427e+06  ...   \n",
       "34  7.842818e+05  6.484950e+05  6.452676e+05  6.190725e+05  7.795972e+05  ...   \n",
       "35  6.483420e+05  5.965063e+05  5.758207e+05  5.508845e+05  7.000129e+05  ...   \n",
       "\n",
       "         P9_t11h        P9_t1h        P9_t2h        P9_t3h        P9_t4h  \\\n",
       "0   5.305489e+05  3.934685e+05  3.989077e+05  3.998759e+05  4.023600e+05   \n",
       "1   9.326065e+05  6.606328e+05  7.921147e+05  7.286367e+05  6.544212e+05   \n",
       "2   1.343557e+06  1.135323e+06  1.146419e+06  1.158197e+06  1.173273e+06   \n",
       "3   5.017919e+05  3.542654e+05  3.916066e+05  3.467485e+05  3.273984e+05   \n",
       "4   3.159203e+05           NaN           NaN           NaN           NaN   \n",
       "5   2.801745e+05  2.605400e+05  3.113012e+05  2.950836e+05  2.962427e+05   \n",
       "6   4.285016e+05  3.676953e+05  3.253990e+05  4.121948e+05  3.673641e+05   \n",
       "7   4.636643e+05  4.301319e+05  4.207709e+05  4.877401e+05  3.778075e+05   \n",
       "8   5.635666e+06  5.255214e+06  6.112155e+06  5.804134e+06  5.815374e+06   \n",
       "9   2.044286e+06  2.102277e+06  2.584062e+06  2.395507e+06  2.071827e+06   \n",
       "10  6.399979e+05  6.583956e+05  6.424699e+05  5.802069e+05  5.744442e+05   \n",
       "11  2.650047e+06  2.906500e+06  2.451675e+06  3.125262e+06  2.609334e+06   \n",
       "12  1.102791e+06  9.282654e+05  1.020253e+06  1.075641e+06  8.360977e+05   \n",
       "13  7.986887e+05  6.704168e+05  7.061091e+05  6.763732e+05  7.224530e+05   \n",
       "14  1.665274e+06  1.642141e+06  1.730769e+06  1.652537e+06  2.339226e+06   \n",
       "15  6.895640e+05  5.388408e+05  6.111494e+05  6.253044e+05  8.806046e+05   \n",
       "16  5.909444e+05  5.611265e+05  6.530372e+05  6.121326e+05  6.726684e+05   \n",
       "17  6.905203e+05  6.315015e+05  6.865207e+05  6.460170e+05  8.907944e+05   \n",
       "18  1.695046e+06  1.386012e+06  1.322624e+06  1.417528e+06  1.958101e+06   \n",
       "19  5.191060e+05  5.137041e+05  4.546494e+05  4.395376e+05  5.410014e+05   \n",
       "20  6.127923e+05  5.893474e+05  4.863428e+05  5.236436e+05  7.542215e+05   \n",
       "21  4.071117e+05  3.026676e+05  3.766824e+05  3.507009e+05  3.126269e+05   \n",
       "22  6.088526e+05  4.752408e+05  6.786197e+05  5.691515e+05  8.500568e+05   \n",
       "23  4.546568e+05  3.889135e+05  6.071097e+05  4.552388e+05  5.158478e+05   \n",
       "24  3.921817e+05           NaN  3.512762e+05           NaN           NaN   \n",
       "25  9.883069e+05  7.186010e+05  8.684725e+05  7.276732e+05  7.743230e+05   \n",
       "26  5.922380e+05  4.375726e+05  5.253791e+05  4.338746e+05  5.011124e+05   \n",
       "27  7.019494e+05  6.112758e+05  7.526966e+05  6.834891e+05  4.191940e+05   \n",
       "28  1.671306e+06  1.806679e+06  1.687068e+06  1.662782e+06  1.520801e+06   \n",
       "29  1.221595e+06  1.115481e+06  1.148862e+06  1.203672e+06  1.078194e+06   \n",
       "30  1.163814e+06  1.008752e+06  9.935718e+05  9.325223e+05  9.002125e+05   \n",
       "31  1.216374e+06  1.490563e+06  1.957346e+06  1.444499e+06  1.366781e+06   \n",
       "32  7.671659e+05  9.958660e+05  1.060659e+06  9.728553e+05  9.757072e+05   \n",
       "33  1.878508e+06  1.626650e+06  1.662901e+06  1.595011e+06  1.597825e+06   \n",
       "34  1.186262e+06  1.035363e+06  1.104374e+06  1.145125e+06  1.013627e+06   \n",
       "35  1.026033e+06  6.981085e+05  8.455351e+05  7.520836e+05  7.738715e+05   \n",
       "\n",
       "          P9_t5h        P9_t6h        P9_t7h        P9_t8h        P9_t9h  \n",
       "0   4.001244e+05  4.066609e+05  4.122365e+05  4.135084e+05  4.158142e+05  \n",
       "1   7.468248e+05  7.371638e+05  7.901525e+05  8.919315e+05  9.825171e+05  \n",
       "2   1.190276e+06  1.234173e+06  1.258291e+06  9.351111e+05  1.314763e+06  \n",
       "3   3.537564e+05  4.679830e+05  3.778011e+05  3.443557e+05  4.743328e+05  \n",
       "4            NaN           NaN           NaN           NaN           NaN  \n",
       "5   3.137796e+05  3.044740e+05  3.147717e+05  2.855757e+05  3.218817e+05  \n",
       "6   3.843801e+05  4.595753e+05  4.323487e+05  4.132366e+05  4.240268e+05  \n",
       "7   4.703971e+05  4.645448e+05  5.144568e+05  4.518866e+05  5.184052e+05  \n",
       "8   5.835012e+06  6.672507e+06  6.228075e+06  6.398991e+06  6.231280e+06  \n",
       "9   2.053685e+06  2.396098e+06  2.334610e+06  2.572396e+06  2.663382e+06  \n",
       "10  7.461428e+05           NaN  7.177730e+05  6.644439e+05           NaN  \n",
       "11  2.920203e+06  3.217078e+06  2.841678e+06  2.698915e+06  3.084444e+06  \n",
       "12  1.031037e+06  1.036842e+06  1.041451e+06  1.178510e+06  1.086579e+06  \n",
       "13  7.311714e+05  7.657228e+05  7.946188e+05  7.013523e+05  7.655621e+05  \n",
       "14  1.403436e+06  1.901874e+06  1.771341e+06  1.731616e+06  2.004429e+06  \n",
       "15  5.195691e+05  7.007630e+05  6.102995e+05  6.413200e+05  7.444598e+05  \n",
       "16  5.841655e+05  6.890385e+05  6.386912e+05  6.407706e+05  5.845883e+05  \n",
       "17  5.672652e+05  7.291121e+05  7.343669e+05  6.788580e+05  8.096875e+05  \n",
       "18  1.470196e+06  1.576491e+06  1.506465e+06  1.196498e+06  1.577798e+06  \n",
       "19  4.797123e+05  5.345355e+05  5.481084e+05  5.081753e+05  4.652196e+05  \n",
       "20  5.764051e+05  6.966046e+05  5.637603e+05  6.135894e+05  6.672359e+05  \n",
       "21  3.848907e+05  4.303836e+05  3.494595e+05  4.177323e+05  3.099178e+05  \n",
       "22  1.048288e+06  7.291790e+05  8.886736e+05  7.735058e+05  7.841401e+05  \n",
       "23  7.408420e+05  4.934828e+05  5.482329e+05  5.368623e+05  5.620308e+05  \n",
       "24  4.458429e+05           NaN           NaN  3.625271e+05           NaN  \n",
       "25  7.459937e+05  8.176911e+05  1.013859e+06  9.258138e+05  9.017534e+05  \n",
       "26  4.836386e+05  5.514029e+05  6.005885e+05  6.744533e+05  6.755864e+05  \n",
       "27  7.521243e+05  8.207472e+05  7.254260e+05  7.590137e+05  6.988730e+05  \n",
       "28  1.888039e+06  1.924948e+06  1.984668e+06  1.931579e+06  2.050927e+06  \n",
       "29  1.494395e+06  1.122283e+06  1.359014e+06  1.299641e+06  1.285089e+06  \n",
       "30  1.319041e+06  1.057367e+06  1.089863e+06  1.298375e+06  1.013671e+06  \n",
       "31  1.631173e+06  1.371687e+06  1.656678e+06  1.686497e+06  1.942693e+06  \n",
       "32  1.246240e+06  1.066857e+06  1.288851e+06  1.035930e+06  1.357441e+06  \n",
       "33  1.975067e+06  1.571305e+06  1.652748e+06  1.688793e+06  1.832230e+06  \n",
       "34  1.544330e+06  1.217738e+06  1.060216e+06  1.338997e+06  1.224848e+06  \n",
       "35  1.003731e+06  7.190450e+05  8.749946e+05  8.073255e+05  9.316666e+05  \n",
       "\n",
       "[36 rows x 119 columns]>"
      ]
     },
     "execution_count": 72,
     "metadata": {},
     "output_type": "execute_result"
    }
   ],
   "source": [
    "# Importing the data - MZmine\n",
    "# df = pd.read_csv(r\"C:\\Users\\adamg\\OneDrive - The University of Liverpool\\Project Work\\MZmine\\MZmine_Feature_Matrix.csv\")\n",
    "# Importing the data - XCMS\n",
    "df = pd.read_csv(r\"C:\\Users\\adamg\\OneDrive - The University of Liverpool\\Project Work\\XCMS\\XCMS_Feature_Matrix.csv\")\n",
    "\n",
    "\n",
    "df.head"
   ]
  },
  {
   "cell_type": "markdown",
   "metadata": {},
   "source": [
    "# Data cleaning\n",
    "The data needs to be cleaned first. This means removing features that are only present in <10% of the samples, filling in missing values through k-nearest neighbour machine learning and scaling the data "
   ]
  },
  {
   "cell_type": "markdown",
   "metadata": {},
   "source": [
    "## Removing rows with low amounts of data"
   ]
  },
  {
   "cell_type": "code",
   "execution_count": 73,
   "metadata": {},
   "outputs": [
    {
     "data": {
      "text/plain": [
       "(36, 119)"
      ]
     },
     "execution_count": 73,
     "metadata": {},
     "output_type": "execute_result"
    }
   ],
   "source": [
    "# Before cleaning\n",
    "df.shape"
   ]
  },
  {
   "cell_type": "code",
   "execution_count": 74,
   "metadata": {},
   "outputs": [],
   "source": [
    "threshold = 0.1\n",
    "\n",
    "# Finds the number of columns with data in \n",
    "data_cols = df.notna().sum(axis=1)\n",
    "\n",
    "df = df[data_cols >= df.shape[1]*threshold]"
   ]
  },
  {
   "cell_type": "code",
   "execution_count": 75,
   "metadata": {},
   "outputs": [
    {
     "data": {
      "text/plain": [
       "(36, 119)"
      ]
     },
     "execution_count": 75,
     "metadata": {},
     "output_type": "execute_result"
    }
   ],
   "source": [
    "# After filtering\n",
    "df.shape"
   ]
  },
  {
   "cell_type": "markdown",
   "metadata": {},
   "source": [
    "## Getting Patient Names"
   ]
  },
  {
   "cell_type": "code",
   "execution_count": 76,
   "metadata": {},
   "outputs": [
    {
     "data": {
      "text/plain": [
       "array(['Patient 1', 'Patient 2', 'Patient 3', 'Patient 4', 'Patient 5',\n",
       "       'Patient 6', 'Patient 7', 'Patient 8', 'Patient 9', 'Patient 10'],\n",
       "      dtype='<U10')"
      ]
     },
     "execution_count": 76,
     "metadata": {},
     "output_type": "execute_result"
    }
   ],
   "source": [
    "x = df.iloc[:,1:].T\n",
    "\n",
    "# Extracting Patient Names\n",
    "patients = [name.split('_')[0] for name in x.index]\n",
    "for i, patient in enumerate(patients):\n",
    "    patients[i] = patient.replace(\"P\", \"Patient \")\n",
    "\n",
    "# Patient Numbers\n",
    "unique_patients = np.unique(patients)\n",
    "\n",
    "# Sorting patients (deals with patient 10)\n",
    "def sort_patients(patients):\n",
    "  # Define a function to extract numbers and handle non-numeric parts\n",
    "  def get_patient_number(patient):\n",
    "    match = re.search(r'\\d+', patient)  # Search for digits\n",
    "    return int(match.group()) if match else float('inf')  # Extract or assign infinity\n",
    "\n",
    "  # Sort the patients based on extracted numbers (or infinity for non-numeric)\n",
    "  return patients[sorted(range(len(patients)), key=lambda i: get_patient_number(patients[i]))]\n",
    "\n",
    "# Sort the patients\n",
    "sorted_patients = sort_patients(unique_patients)\n",
    "sorted_patients\n",
    "\n"
   ]
  },
  {
   "cell_type": "markdown",
   "metadata": {},
   "source": [
    "# Scaling the data"
   ]
  },
  {
   "cell_type": "code",
   "execution_count": 77,
   "metadata": {},
   "outputs": [],
   "source": [
    "x = StandardScaler().fit_transform(x)"
   ]
  },
  {
   "cell_type": "markdown",
   "metadata": {},
   "source": [
    "## Filling in missing values \n",
    "Using k-nearest neighbour"
   ]
  },
  {
   "cell_type": "code",
   "execution_count": 78,
   "metadata": {},
   "outputs": [
    {
     "data": {
      "text/plain": [
       "array([[-0.88771674, -0.59906799, -2.10439368, ..., -1.20634742,\n",
       "        -1.02743047, -0.05549583],\n",
       "       [ 0.87751615,  0.36177435,  1.70510627, ..., -1.43975508,\n",
       "        -1.15162638, -0.60249909],\n",
       "       [ 1.18487253, -0.69814842,  1.83677653, ..., -0.60296909,\n",
       "        -0.62064234,  0.74624419],\n",
       "       ...,\n",
       "       [ 0.67232727,  1.12784782,  1.00920425, ...,  0.82697272,\n",
       "         0.3429803 ,  0.83932682],\n",
       "       [ 0.71460622,  1.63678583, -0.67162679, ...,  0.94718179,\n",
       "         1.54806667,  0.37601467],\n",
       "       [ 0.79124841,  2.08975258,  1.30291058, ...,  1.4255401 ,\n",
       "         1.05463467,  1.22734465]])"
      ]
     },
     "execution_count": 78,
     "metadata": {},
     "output_type": "execute_result"
    }
   ],
   "source": [
    "# Can adjust the number of neighbours\n",
    "num_neighbours = 2\n",
    "\n",
    "imputer = KNNImputer(n_neighbors=num_neighbours, weights=\"uniform\")\n",
    "\n",
    "x = imputer.fit_transform(x)\n",
    "x"
   ]
  },
  {
   "cell_type": "markdown",
   "metadata": {},
   "source": [
    "# Performing PCA analysis"
   ]
  },
  {
   "cell_type": "code",
   "execution_count": 79,
   "metadata": {},
   "outputs": [
    {
     "data": {
      "text/html": [
       "<div>\n",
       "<style scoped>\n",
       "    .dataframe tbody tr th:only-of-type {\n",
       "        vertical-align: middle;\n",
       "    }\n",
       "\n",
       "    .dataframe tbody tr th {\n",
       "        vertical-align: top;\n",
       "    }\n",
       "\n",
       "    .dataframe thead th {\n",
       "        text-align: right;\n",
       "    }\n",
       "</style>\n",
       "<table border=\"1\" class=\"dataframe\">\n",
       "  <thead>\n",
       "    <tr style=\"text-align: right;\">\n",
       "      <th></th>\n",
       "      <th>Principal Component 1</th>\n",
       "      <th>Principal Component 2</th>\n",
       "      <th>Patient</th>\n",
       "    </tr>\n",
       "  </thead>\n",
       "  <tbody>\n",
       "    <tr>\n",
       "      <th>0</th>\n",
       "      <td>-4.825826</td>\n",
       "      <td>2.085204</td>\n",
       "      <td>Patient 1</td>\n",
       "    </tr>\n",
       "    <tr>\n",
       "      <th>1</th>\n",
       "      <td>-1.902928</td>\n",
       "      <td>0.454636</td>\n",
       "      <td>Patient 1</td>\n",
       "    </tr>\n",
       "    <tr>\n",
       "      <th>2</th>\n",
       "      <td>-0.774398</td>\n",
       "      <td>2.790351</td>\n",
       "      <td>Patient 1</td>\n",
       "    </tr>\n",
       "    <tr>\n",
       "      <th>3</th>\n",
       "      <td>-5.878463</td>\n",
       "      <td>1.912481</td>\n",
       "      <td>Patient 1</td>\n",
       "    </tr>\n",
       "    <tr>\n",
       "      <th>4</th>\n",
       "      <td>-3.615134</td>\n",
       "      <td>3.585499</td>\n",
       "      <td>Patient 1</td>\n",
       "    </tr>\n",
       "    <tr>\n",
       "      <th>...</th>\n",
       "      <td>...</td>\n",
       "      <td>...</td>\n",
       "      <td>...</td>\n",
       "    </tr>\n",
       "    <tr>\n",
       "      <th>113</th>\n",
       "      <td>6.545360</td>\n",
       "      <td>2.315828</td>\n",
       "      <td>Patient 9</td>\n",
       "    </tr>\n",
       "    <tr>\n",
       "      <th>114</th>\n",
       "      <td>7.137518</td>\n",
       "      <td>-0.336050</td>\n",
       "      <td>Patient 9</td>\n",
       "    </tr>\n",
       "    <tr>\n",
       "      <th>115</th>\n",
       "      <td>7.147902</td>\n",
       "      <td>1.075557</td>\n",
       "      <td>Patient 9</td>\n",
       "    </tr>\n",
       "    <tr>\n",
       "      <th>116</th>\n",
       "      <td>6.487428</td>\n",
       "      <td>1.384470</td>\n",
       "      <td>Patient 9</td>\n",
       "    </tr>\n",
       "    <tr>\n",
       "      <th>117</th>\n",
       "      <td>8.583373</td>\n",
       "      <td>0.698949</td>\n",
       "      <td>Patient 9</td>\n",
       "    </tr>\n",
       "  </tbody>\n",
       "</table>\n",
       "<p>118 rows × 3 columns</p>\n",
       "</div>"
      ],
      "text/plain": [
       "     Principal Component 1  Principal Component 2    Patient\n",
       "0                -4.825826               2.085204  Patient 1\n",
       "1                -1.902928               0.454636  Patient 1\n",
       "2                -0.774398               2.790351  Patient 1\n",
       "3                -5.878463               1.912481  Patient 1\n",
       "4                -3.615134               3.585499  Patient 1\n",
       "..                     ...                    ...        ...\n",
       "113               6.545360               2.315828  Patient 9\n",
       "114               7.137518              -0.336050  Patient 9\n",
       "115               7.147902               1.075557  Patient 9\n",
       "116               6.487428               1.384470  Patient 9\n",
       "117               8.583373               0.698949  Patient 9\n",
       "\n",
       "[118 rows x 3 columns]"
      ]
     },
     "execution_count": 79,
     "metadata": {},
     "output_type": "execute_result"
    }
   ],
   "source": [
    "pca = PCA(n_components=2)\n",
    "principalComponents = pca.fit_transform(x)\n",
    "principalDf = pd.DataFrame(data=principalComponents, columns=[\"Principal Component 1\",\"Principal Component 2\"])\n",
    "principalDf[\"Patient\"] = patients\n",
    "\n",
    "principalDf"
   ]
  },
  {
   "cell_type": "code",
   "execution_count": 80,
   "metadata": {},
   "outputs": [
    {
     "data": {
      "image/png": "[encoded data removed]",
      "text/plain": [
       "<Figure size 1000x700 with 1 Axes>"
      ]
     },
     "metadata": {},
     "output_type": "display_data"
    }
   ],
   "source": [
    "# Asigns each patient a colour\n",
    "plt.figure(figsize=(10, 7))\n",
    "\n",
    "\n",
    "colours = plt.cm.rainbow(np.linspace(0, 1, len(sorted_patients)))\n",
    "\n",
    "# Plots each patients PCA results\n",
    "for patient, colour in zip(sorted_patients, colours):\n",
    "    indices = principalDf['Patient'] == patient\n",
    "    plt.scatter(principalDf.loc[indices, 'Principal Component 1'], principalDf.loc[indices, 'Principal Component 2'], label=patient, color=colour)\n",
    "\n",
    "\n",
    "plt.xlabel('Principal Component 1')\n",
    "plt.ylabel('Principal Component 2')\n",
    "plt.title(f'Software used: {software}')\n",
    "plt.legend()\n",
    "\n",
    "plt.savefig(f\"{software}_{date}_PCA.png\", format = \"png\")\n",
    "plt.show()\n"
   ]
  }
 ],
 "metadata": {
  "kernelspec": {
   "display_name": "Python 3",
   "language": "python",
   "name": "python3"
  },
  "language_info": {
   "codemirror_mode": {
    "name": "ipython",
    "version": 3
   },
   "file_extension": ".py",
   "mimetype": "text/x-python",
   "name": "python",
   "nbconvert_exporter": "python",
   "pygments_lexer": "ipython3",
   "version": "3.12.3"
  }
 },
 "nbformat": 4,
 "nbformat_minor": 2
}
